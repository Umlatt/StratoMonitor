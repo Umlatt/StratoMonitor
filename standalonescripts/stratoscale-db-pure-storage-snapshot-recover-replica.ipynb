{
 "cells": [
  {
   "cell_type": "code",
   "execution_count": 1,
   "metadata": {},
   "outputs": [],
   "source": [
    "import sys  # For running system level commands\n",
    "import yaml  # For reading the config file\n",
    "import os  # For path tools\n",
    "import requests  # For symphony client\n",
    "import symphony_client  # For connecting to Symphony region\n",
    "import purestorage  # For running Pure Storage commands\n",
    "from pip._vendor.distlib.compat import raw_input\n",
    "import datetime\n",
    "from pytz import timezone\n",
    "import pytz  # To add timezone to datetime"
   ]
  },
  {
   "cell_type": "code",
   "execution_count": 2,
   "metadata": {
    "scrolled": true
   },
   "outputs": [],
   "source": [
    "#!{sys.executable} -m pip install purestorage\n",
    "#!{sys.executable} -m pip install pyyaml"
   ]
  },
  {
   "cell_type": "code",
   "execution_count": 3,
   "metadata": {},
   "outputs": [
    {
     "name": "stdout",
     "output_type": "stream",
     "text": [
      "[INIT] Initialising script.\n"
     ]
    }
   ],
   "source": [
    "print(u\"[INIT] Initialising script.\").encode('utf-8')\n",
    "# Configure environment\n",
    "tz_utc = pytz.timezone(\"UTC\") # Set timezone for data source\n",
    "current_day= [\"ISO Week days start from 1\",\"Mon\",\"Tues\",\"Wed\",\"Thurs\",\"Fri\",\"Sat\",\"Sun\"]\n",
    "rootpath = os.path.dirname(os.path.realpath('__file__'))  # Get the root path"
   ]
  },
  {
   "cell_type": "code",
   "execution_count": 4,
   "metadata": {},
   "outputs": [
    {
     "name": "stdout",
     "output_type": "stream",
     "text": [
      " [✓] Config file loaded.\n"
     ]
    }
   ],
   "source": [
    "# Import config file data\n",
    "with open(rootpath + '/config.yml', 'r') as stream:\n",
    "    try:\n",
    "        config = yaml.safe_load(stream)\n",
    "        print(u\" [\\u2713] Config file loaded.\").encode('utf-8')\n",
    "    except yaml.YAMLError as exc:\n",
    "        print(u\" [\\u2717] Could not load the config file.\").encode('utf-8')\n",
    "        print(exc)\n",
    "        exit()"
   ]
  },
  {
   "cell_type": "code",
   "execution_count": 5,
   "metadata": {},
   "outputs": [
    {
     "name": "stdout",
     "output_type": "stream",
     "text": [
      " [>] Please input the database ID for the database you wish to recover a new DB from: a5f089a9-e0f8-41aa-aba9-222e53005400\n",
      " [>] Please input a name for the Replica database: deleteme123\n",
      " [>] Please input the ID of the paramater group to be attached: 067292b9-7cb6-40e9-a257-d5fc676d27e4\n",
      " [>] Please input the master user password for the db: admin\n"
     ]
    }
   ],
   "source": [
    "try:\n",
    "    dbs_id = raw_input(\" [>] Please input the database ID for the database you wish to recover a new DB from: \").lower()\n",
    "    dbs_name_replica = raw_input(\" [>] Please input a name for the Replica database: \").lower()\n",
    "    dbs_parameter_group_id_replica = raw_input(\" [>] Please input the ID of the paramater group to be attached: \").lower()\n",
    "    dbs_master_password = raw_input(\" [>] Please input the master user password for the db: \").lower()\n",
    "except:\n",
    "    print(u\" [\\u2717] Failed to collect the input data. Please try again.\").encode('utf-8')\n",
    "    exit()"
   ]
  },
  {
   "cell_type": "code",
   "execution_count": 6,
   "metadata": {
    "scrolled": true
   },
   "outputs": [
    {
     "name": "stdout",
     "output_type": "stream",
     "text": [
      "[>] SOURCE DB\n",
      " [✓] Stratoscale user region [https://192.168.101.100] session established.\n",
      " [✓] Stratoscale cloud admin region [https://192.168.101.100] session established.\n"
     ]
    }
   ],
   "source": [
    "# Configure Stratoscale API connection (Source Region)\n",
    "symp_url = \"https://\" + config[\"region_access\"][\"ipaddress\"]\n",
    "symp_domain = config[\"region_access\"][\"cloud_domain\"]\n",
    "symp_user = config[\"region_access\"][\"cloud_user\"]\n",
    "symp_password = config[\"region_access\"][\"cloud_password\"]\n",
    "symp_cloud_admin_password = config[\"region_access\"][\"cloud_admin_password\"]\n",
    "symp_project = config[\"region_access\"][\"project\"]\n",
    "\n",
    "my_session = requests.Session()\n",
    "my_admin_session = requests.Session()\n",
    "my_session.verify = False\n",
    "my_admin_session.verify = False\n",
    "\n",
    "try:\n",
    "    client = symphony_client.Client(url=symp_url, session=my_session)\n",
    "    client_login = client.login(domain=symp_domain, username=symp_user, password=symp_password,project=symp_project)\n",
    "    print(u\" [\\u2713] Stratoscale user source region [{}] session established.\".format(symp_url)).encode('utf-8')\n",
    "except:\n",
    "    print(u\" [\\u2717] Could not connect to the Stratosacle source region [{}] as user\".format(symp_url)).encode('utf-8')\n",
    "    exit()\n",
    "\n",
    "try:\n",
    "    client_admin = symphony_client.Client(url=symp_url, session=my_admin_session)\n",
    "    client_admin_login = client_admin.login(domain=\"cloud_admin\", username=\"admin\", password=symp_cloud_admin_password,project=\"default\")\n",
    "    print(u\" [\\u2713] Stratoscale cloud admin source region [{}] session established.\".format(symp_url)).encode('utf-8')\n",
    "except:\n",
    "    print(u\" [\\u2717] Could not connect to the Stratosacle source region [{}] as cloud admin\".format(symp_url)).encode('utf-8')\n",
    "    exit()\n"
   ]
  },
  {
   "cell_type": "code",
   "execution_count": 7,
   "metadata": {},
   "outputs": [
    {
     "name": "stdout",
     "output_type": "stream",
     "text": [
      "[SOURCE DB] Collecting information from original DB [a5f089a9-e0f8-41aa-aba9-222e53005400].\n",
      " [✓] VPC ID\t\t\t\t> e4d10915-1bf1-4f3c-9b6d-a5b2542991c2\n",
      " [✓] Storage Pool ID (Default)\t\t> fbc2f16d-ec30-4102-8464-fad7fd725a62\n",
      " [✓] Source DB Name\t\t\t> dbs_mysql5.7_01\n",
      " [✓] Source DB Engine Version ID\t> 74f0ee58-7fea-481c-b2d6-1eae9208e9e1\n",
      " [✓] Source DB Engine Version\t\t> MySQL 5.7.00\n",
      " [✓] Source DB Network ID\t\t> e96e820b-383a-4bc3-a64d-6127d05f6c16\n",
      " [✓] Source DB Master Username\t\t> admin\n",
      " [✓] Source DB Master DB Name\t\t> db\n",
      " [✓] Source DB Instance Type\t\t> m1.medium\n",
      " [✓] Source DB Instance Project ID\t> 30907850ff5a48a2add1532672944420\n",
      " [✓] Source DB Parameter Group ID\t> 57000e71-364c-49e1-adbd-586485fb4362\n",
      " [✓] Source DB Security Group ID\t> 500ac4f4-d0fb-4d2f-9c3d-9d34b4ba90d4\n",
      " [✓] Source elastic IP address\t\t> 172.16.250.40\n",
      " [✓] Source access port is\t\t> 3306\n",
      " [✓] Source DB Volume ID\t\t> 192e448f-8aaa-4377-a5f2-453e4db982bd\n"
     ]
    }
   ],
   "source": [
    "# Collect SOURCE DB data\n",
    "print(u\"[SOURCE DB] Collecting metadata from original DB [{}].\".format(dbs_id)).encode('utf-8')\n",
    "database=client.dbs.instance.get(dbs_id)\n",
    "# Environmentals\n",
    "dbs_vpc_id = client.vpcs.list()[0].get(\"id\")\n",
    "print(u\" [\\u2713] VPC ID\\t\\t\\t\\t> {}\".format(dbs_vpc_id)).encode('utf-8')\n",
    "dbs_storage_pool_id = client.melet.pools.get_default()\n",
    "print(u\" [\\u2713] Storage Pool ID (Default)\\t\\t> {}\".format(dbs_storage_pool_id)).encode('utf-8')\n",
    "# Get Database Metadata\n",
    "dbs_original_name = database.get(\"name\")\n",
    "print(u\" [\\u2713] Source DB Name\\t\\t\\t> {}\".format(dbs_original_name)).encode('utf-8')\n",
    "dbs_engine_version_id = database.get(\"engine_version_id\")\n",
    "engines = client.dbs.engines.versions.list()\n",
    "for engine in engines:\n",
    "    if (engine.id == dbs_engine_version_id):\n",
    "        dbs_engine_build = engine.name\n",
    "        dbs_engine_name = engine.enabled_revision.engine_name\n",
    "print(u\" [\\u2713] Source DB Engine Version ID\\t> {}\".format(dbs_engine_version_id)).encode('utf-8')\n",
    "print(u\" [\\u2713] Source DB Engine Version\\t\\t> {} {}\".format(dbs_engine_name, dbs_engine_build)).encode('utf-8')\n",
    "dbs_network_id = database.get(\"network_id\")\n",
    "print(u\" [\\u2713] Source DB Network ID\\t\\t> {}\".format(dbs_network_id)).encode('utf-8')\n",
    "dbs_master_username = database.get(\"master_user_name\")\n",
    "print(u\" [\\u2713] Source DB Master Username\\t\\t> {}\".format(dbs_master_username)).encode('utf-8')\n",
    "dbs_master_db_name = database.get(\"db_name\")\n",
    "print(u\" [\\u2713] Source DB Master DB Name\\t\\t> {}\".format(dbs_master_db_name)).encode('utf-8')\n",
    "dbs_instance_type = database.get(\"instance_type\")\n",
    "print(u\" [\\u2713] Source DB Instance Type\\t\\t> {}\".format(dbs_instance_type)).encode('utf-8')\n",
    "dbs_project_id = database.get(\"project_id\")\n",
    "print(u\" [\\u2713] Source DB Instance Project ID\\t> {}\".format(dbs_project_id)).encode('utf-8')\n",
    "dbs_parameter_group_id = database.get(\"parameter_group_id\")\n",
    "print(u\" [\\u2713] Source DB Parameter Group ID\\t> {}\".format(dbs_parameter_group_id)).encode('utf-8')\n",
    "source_parameter_group = client.dbs.parameter_group.get(dbs_parameter_group_id)\n",
    "dbs_security_group_id = database.get(\"security_group_id\")\n",
    "print(u\" [\\u2713] Source DB Security Group ID\\t> {}\".format(dbs_security_group_id)).encode('utf-8')\n",
    "db_elastic_ip_address = database.floating_ip\n",
    "print(u\" [\\u2713] Source elastic IP address\\t\\t> {}\".format(db_elastic_ip_address)).encode('utf-8')\n",
    "db_access_port = database.ports\n",
    "print(u\" [\\u2713] Source access port is\\t\\t> {}\".format(db_access_port)).encode('utf-8')\n",
    "db_vm_data_vol_id = client.vms.get(database.vm_id).get(\"volumes\")[0]\n",
    "print(u\" [\\u2713] Source DB Volume ID\\t\\t> {}\".format(db_vm_data_vol_id)).encode('utf-8')"
   ]
  },
  {
   "cell_type": "code",
   "execution_count": 8,
   "metadata": {},
   "outputs": [],
   "source": [
    "# Disconnect source region, connect to replication region\n",
    "client.logout()\n",
    "client_admin.logout()"
   ]
  },
  {
   "cell_type": "code",
   "execution_count": 9,
   "metadata": {},
   "outputs": [
    {
     "name": "stdout",
     "output_type": "stream",
     "text": [
      "[>] REPLICA DB\n",
      " [✓] Stratoscale user region [https://192.168.101.100] session established.\n",
      " [✓] Stratoscale cloud admin region [https://192.168.101.100] session established.\n"
     ]
    }
   ],
   "source": [
    "# Configure Stratoscale API connection (Source Region)\n",
    "symp_url = \"https://\" + config[\"region_access_replicasite\"][\"ipaddress\"]\n",
    "symp_domain = config[\"region_access_replicasite\"][\"cloud_domain\"]\n",
    "symp_user = config[\"region_access_replicasite\"][\"cloud_user\"]\n",
    "symp_password = config[\"region_access_replicasite\"][\"cloud_password\"]\n",
    "symp_cloud_admin_password = config[\"region_access_replicasite\"][\"cloud_admin_password\"]\n",
    "symp_project = config[\"region_access_replicasite\"][\"project\"]\n",
    "\n",
    "my_session = requests.Session()\n",
    "my_admin_session = requests.Session()\n",
    "my_session.verify = False\n",
    "my_admin_session.verify = False\n",
    "\n",
    "try:\n",
    "    client = symphony_client.Client(url=symp_url, session=my_session)\n",
    "    client_login = client.login(domain=symp_domain, username=symp_user, password=symp_password,project=symp_project)\n",
    "    print(u\" [\\u2713] Stratoscale user replica region [{}] session established.\".format(symp_url)).encode('utf-8')\n",
    "except:\n",
    "    print(u\" [\\u2717] Could not connect to the Stratosacle replica region [{}] as user\".format(symp_url)).encode('utf-8')\n",
    "    exit()\n",
    "\n",
    "try:\n",
    "    client_admin = symphony_client.Client(url=symp_url, session=my_admin_session)\n",
    "    client_admin_login = client_admin.login(domain=\"cloud_admin\", username=\"admin\", password=symp_cloud_admin_password,project=\"default\")\n",
    "    print(u\" [\\u2713] Stratoscale cloud admin replica region [{}] session established.\".format(symp_url)).encode('utf-8')\n",
    "except:\n",
    "    print(u\" [\\u2717] Could not connect to the Stratosacle replica region [{}] as cloud admin\".format(symp_url)).encode('utf-8')\n",
    "    exit()"
   ]
  },
  {
   "cell_type": "code",
   "execution_count": 10,
   "metadata": {},
   "outputs": [
    {
     "name": "stdout",
     "output_type": "stream",
     "text": [
      "[NEW DB DEPLOYMENT] Finalizing new DB.\n",
      " [✓] A new DB called [deleteme123] will be created from data in the DB [dbs_mysql5.7_01].\n",
      " [>] Please type \"confirm\" to create the DB: confirm\n"
     ]
    }
   ],
   "source": [
    "# Configuring parameters for new DB\n",
    "print(u\" [\\u2713] A new DB called [{}] will be created from data in the DB [{}].\".format(\n",
    "    dbs_name_replica,\n",
    "    dbs_original_name\n",
    ")).encode('utf-8')\n",
    "print(u\"[CONFIRMATION] A new remote replica DB called [{}] will be created for DB [{}].\".encode('utf-8')\n",
    "answer = raw_input(\" [>] Please type \\\"confirm\\\" to create the remote replica: \").lower()\n",
    "if answer != \"confirm\":\n",
    "    print(u\" [\\u2717] Process Cancelled - Nothing will be done.\").encode('utf-8')\n",
    "    exit()"
   ]
  },
  {
   "cell_type": "code",
   "execution_count": 11,
   "metadata": {},
   "outputs": [
    {
     "name": "stdout",
     "output_type": "stream",
     "text": [
      " [✓] FlashArray dsclabpure02 [172.16.100.10] (version 5.1.6) REST session established!\n"
     ]
    }
   ],
   "source": [
    "#Configure Pure Storage API Connection\n",
    "pureip = str(config['purestoragearray_replicasite']['ipaddress'])\n",
    "puretoken = str(config['purestoragearray_replicasite']['apitoken'])\n",
    "array = purestorage.FlashArray(pureip, api_token=puretoken)\n",
    "try:\n",
    "    array_info = array.get()\n",
    "    print(u\" [\\u2713] FlashArray {} [{}] (version {}) REST session established!\".format(array_info['array_name'],\n",
    "                                                                                pureip, array_info['version'])).encode('utf-8')\n",
    "except:\n",
    "    print(u\" [\\u2717] Could not connect to the Pure Storage array - IP [\" + pureip + \"]\").encode('utf-8')\n",
    "    exit()"
   ]
  },
  {
   "cell_type": "code",
   "execution_count": 12,
   "metadata": {},
   "outputs": [
    {
     "name": "stdout",
     "output_type": "stream",
     "text": [
      " [?] Attempted a clean of old volume. Not needed.\n",
      " [✓] Creating a volume from selected recovery point (snapshot) on the Pure Storage Array. NAME [tempvolume-delete]\n"
     ]
    }
   ],
   "source": [
    "# Generating the data volume and import to Stratoscale\n",
    "volumename = \"replicarecoveryvolumetemp\"\n",
    "try: \n",
    "    array.destroy_volume(volumename)\n",
    "    array.eradicate_volume(volumename)\n",
    "except:\n",
    "    print(u\" [?] Attempted a clean of old volume. Not needed.\").encode('utf-8')\n",
    "    \n",
    "try:\n",
    "    snapshots = array.get_volume(\"volume-\" + db_vm_data_vol_id + \"-cinder\", snap=\"True\")\n",
    "    response = array.copy_volume(snapshots[0].get(\"name\"), volumename)\n",
    "    print(u\" [\\u2713] Creating a volume from selected recovery point (snapshot) on the Pure Storage Array. NAME [{}]\".format(volumename)).encode('utf-8')\n",
    "except:\n",
    "    print(u\" [\\u2717] Could not create a volume on the Pure Storage Array. Please try again.\").encode('utf-8')\n",
    "    exit()"
   ]
  },
  {
   "cell_type": "code",
   "execution_count": 13,
   "metadata": {},
   "outputs": [
    {
     "name": "stdout",
     "output_type": "stream",
     "text": [
      " [✓] The volume [tempvolume-delete] was imported into Stratosacle and renamed to [deleteme123 - Data]. ID [297fc16a-9b1f-4c44-816c-0cf140b955db]\n"
     ]
    }
   ],
   "source": [
    "# Import volume for use in Stratoscale\n",
    "try:\n",
    "    response = client_admin.meletvolumes.manage(name=\"{} - Data\".format(dbs_name_replica), \n",
    "                           storage_pool=dbs_storage_pool_id,\n",
    "                           reference = {\"name\" : volumename},\n",
    "                           description=\"A restored Data volume for {}\".format(dbs_name_replica),\n",
    "                           project_id=dbs_project_id\n",
    "                          )\n",
    "    volume_id = response.get(\"id\")\n",
    "    print(u\" [\\u2713] The volume [{}] was imported into Stratosacle and renamed to [{}]. ID [{}]\".format(volumename, \"{} - Data\".format(dbs_name_replica), volume_id)).encode('utf-8')\n",
    "except:\n",
    "    try:\n",
    "        array.destroy_volume(volumename)\n",
    "        array.eradicate_volume(volumename)\n",
    "    except:\n",
    "        print(u\" [\\u2717] Could not remove the volume. It may not exist.\").encode('utf-8')\n",
    "    print(u\" [\\u2717] Could not import the volume. Please try again.\").encode('utf-8')\n",
    "    exit()"
   ]
  },
  {
   "cell_type": "code",
   "execution_count": 14,
   "metadata": {},
   "outputs": [
    {
     "name": "stdout",
     "output_type": "stream",
     "text": [
      "[REPLICA DB] Building metadeta for replica DB[a5f089a9-e0f8-41aa-aba9-222e53005400].\n",
      " [✓] Replica DB Engine Version ID\t> 74f0ee58-7fea-481c-b2d6-1eae9208e9e1\n",
      " [✓] Replica DB Name\t\t\t> deleteme123\n",
      " [✓] Storage Pool ID (Default)\t\t> fbc2f16d-ec30-4102-8464-fad7fd725a62\n",
      " [✓] Replica DB Network ID\t\t> 797cfd8b-c33f-40e3-a29b-647c7cfd9240\n",
      " [✓] Replica DB Master Username\t\t> admin\n",
      " [✓] Replica DB Master Password\t\t> admin\n",
      " [✓] Replica DB Instance Type\t\t> m1.medium\n",
      " [✓] Replica DB Volume ID\t\t> 297fc16a-9b1f-4c44-816c-0cf140b955db\n",
      " [✓] Replica DB Parameter Group ID\t> 067292b9-7cb6-40e9-a257-d5fc676d27e4\n",
      " [✓] Master DB access IP\t\t> 172.16.250.40\n",
      " [✓] Master DB access port\t\t> 3306\n"
     ]
    }
   ],
   "source": [
    "# Collect Replica DB data\n",
    "print(u\"[REPLICA DB] Building metadeta for replica DB[{}].\".format(dbs_id)).encode('utf-8')\n",
    "### GET DB ENGINE VERSION\n",
    "dbs_engine_version_id = \"[notfound]\"\n",
    "engines = client.dbs.engines.versions.list()\n",
    "for engine in engines:\n",
    "    if dbs_engine_name == engine.enabled_revision.engine_name:\n",
    "        if (dbs_engine_build == engine.name):\n",
    "            dbs_engine_version_id = engine.id\n",
    "if (dbs_engine_version_id == \"[notfound]\"):\n",
    "    print(u\" [\\u2717] The engine build is not active/found for use.\").encode('utf-8')\n",
    "    exit()\n",
    "print(u\" [\\u2713] Replica DB Engine Version ID\\t> {}\".format(dbs_engine_version_id)).encode('utf-8')\n",
    "print(u\" [\\u2713] Replica DB Name\\t\\t\\t> {}\".format(dbs_name_replica)).encode('utf-8')\n",
    "dbs_storage_pool_id = client.melet.pools.get_default()\n",
    "print(u\" [\\u2713] Storage Pool ID (Default)\\t\\t> {}\".format(dbs_storage_pool_id)).encode('utf-8')\n",
    "for network in client.vpcs.networks.list():\n",
    "    if network.is_default:\n",
    "        dbs_network_new = network\n",
    "dbs_network_id_replica = dbs_network_new.id\n",
    "print(u\" [\\u2713] Replica DB Network ID\\t\\t> {}\".format(dbs_network_id_replica)).encode('utf-8')\n",
    "print(u\" [\\u2713] Replica DB Master Username\\t\\t> {}\".format(dbs_master_username)).encode('utf-8')\n",
    "print(u\" [\\u2713] Replica DB Master Password\\t\\t> {}\".format(dbs_master_password)).encode('utf-8')\n",
    "print(u\" [\\u2713] Replica DB Instance Type\\t\\t> {}\".format(dbs_instance_type)).encode('utf-8')\n",
    "print(u\" [\\u2713] Replica DB Volume ID\\t\\t> {}\".format(volume_id)).encode('utf-8')\n",
    "print(u\" [\\u2713] Replica DB Parameter Group ID\\t> {}\".format(dbs_parameter_group_id_replica)).encode('utf-8')\n",
    "print(u\" [\\u2713] Master DB access IP\\t\\t> {}\".format(db_elastic_ip_address)).encode('utf-8')\n",
    "print(u\" [\\u2713] Master DB access port\\t\\t> {}\".format(db_access_port)).encode('utf-8')\n",
    "     \n",
    "### MVP2 - ASK FOR CUSTOM IP ADDRESS MVP2\n",
    "### MVP2 - COPARE PARAMETER GROUPS THAT ARE SELECTED\n"
   ]
  },
  {
   "cell_type": "code",
   "execution_count": 15,
   "metadata": {},
   "outputs": [
    {
     "name": "stdout",
     "output_type": "stream",
     "text": [
      "[>] symp -k -d 'engineering' -u 'richardraymond' -r 'demo' -p 'M!ch3ll3_90' dbs instance create '74f0ee58-7fea-481c-b2d6-1eae9208e9e1' 'deleteme123' 'fbc2f16d-ec30-4102-8464-fad7fd725a62' '797cfd8b-c33f-40e3-a29b-647c7cfd9240' 'admin' 'admin' 'm1.medium' --volume-id '297fc16a-9b1f-4c44-816c-0cf140b955db' --param-group-id '067292b9-7cb6-40e9-a257-d5fc676d27e4' --replication-host '172.16.250.40' --replication-port '3306' --is-external STRING TO RUN: \n"
     ]
    }
   ],
   "source": [
    "# Build up bash query (creating replica does not exist in this build)\n",
    "print(u\"[CREATE REPLICA] Launching the remote replica DB [{}].\".format(dbs_name_replica)).encode('utf-8')\n",
    "cli_string = \"symp -k -d \\'{}\\' -u \\'{}\\' -r \\'{}\\' -p \\'{}\\' dbs instance create \\'{}\\' \\'{}\\' \\'{}\\' \\'{}\\' \\'{}\\' \\'{}\\' \\'{}\\' --volume-id \\'{}\\' --param-group-id \\'{}\\' --replication-host \\'{}\\' --replication-port \\'{}\\' --is-external\".format(\n",
    "    symp_domain,\n",
    "    symp_user,\n",
    "    symp_project,\n",
    "    symp_password,    \n",
    "    dbs_engine_version_id,\n",
    "    dbs_name_replica,\n",
    "    dbs_storage_pool_id,\n",
    "    dbs_network_id_replica,\n",
    "    dbs_master_username,\n",
    "    dbs_master_password,\n",
    "    dbs_instance_type,\n",
    "    volume_id,\n",
    "    dbs_parameter_group_id_replica,\n",
    "    db_elastic_ip_address,\n",
    "    db_access_port\n",
    ")\n",
    "print u\"[>] STRING TO RUN: {}\".format(cli_string)"
   ]
  },
  {
   "cell_type": "code",
   "execution_count": 16,
   "metadata": {},
   "outputs": [
    {
     "name": "stdout",
     "output_type": "stream",
     "text": [
      "[>] Attempting DB creation.\n"
     ]
    }
   ],
   "source": [
    "print(u\"[>] Attempting DB creation.\").encode('utf-8')\n",
    "try:\n",
    "    os.system(cli_string)\n",
    "except:\n",
    "    print(u\" [\\u2717] Could not run the shell request.\").encode('utf-8')"
   ]
  },
  {
   "cell_type": "code",
   "execution_count": 17,
   "metadata": {},
   "outputs": [],
   "source": [
    "# Disconnect sessions\n",
    "array.invalidate_cookie()\n",
    "# Disconnect source region, connect to replication region\n",
    "client.logout()\n",
    "client_admin.logout()\n",
    "print(u\" [\\u2713] Storage based remote replica creation process complete.\\nProgam will now exit.\").encode('utf-8')"
   ]
  },
  {
   "cell_type": "code",
   "execution_count": 18,
   "metadata": {},
   "outputs": [],
   "source": [
    "#dbs instance create \n",
    "#[engine_version_id] \n",
    "#[\"db name\"] \n",
    "#[storage_pool_id] \n",
    "#[network_id] \n",
    "#[\"master_user_name\"] \n",
    "#[\"master_user_password\"] \n",
    "#[\"instance_type\"] \n",
    "#--volume-id [new-replicated-volume-id]\n",
    "#--param-group-id [parameter-group-id]\n",
    "#--replication-host [\"ip address of master\"] \n",
    "#--replication-port [\"db data port of master\"] \n",
    "#--fip-id [id of elastic IP] \n",
    "#--is-external"
   ]
  }
 ],
 "metadata": {
  "kernelspec": {
   "display_name": "Python 2",
   "language": "python",
   "name": "python2"
  },
  "language_info": {
   "codemirror_mode": {
    "name": "ipython",
    "version": 2
   },
   "file_extension": ".py",
   "mimetype": "text/x-python",
   "name": "python",
   "nbconvert_exporter": "python",
   "pygments_lexer": "ipython2",
   "version": "2.7.5"
  }
 },
 "nbformat": 4,
 "nbformat_minor": 2
}
